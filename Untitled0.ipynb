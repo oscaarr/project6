{
  "nbformat": 4,
  "nbformat_minor": 0,
  "metadata": {
    "colab": {
      "provenance": []
    },
    "kernelspec": {
      "name": "python3",
      "display_name": "Python 3"
    },
    "language_info": {
      "name": "python"
    }
  },
  "cells": [
    {
      "cell_type": "code",
      "execution_count": null,
      "metadata": {
        "colab": {
          "base_uri": "https://localhost:8080/",
          "height": 1000
        },
        "id": "c1De1MfGol-D",
        "outputId": "51b1e376-00ec-430b-a740-c04cd54a8602"
      },
      "outputs": [],
      "source": [
        "import cv2\n",
        "image1=cv2.imread(\"sk.jpg\")\n",
        "from google.colab.patches import cv2_imshow\n",
        "cv2_imshow(image1)\n",
        "\n",
        "image1 =cv2.imread(\"sk.jpg\",0)\n",
        "cv2_imshow(image1)\n",
        "\n",
        "\n",
        "gaussian=cv2.GaussianBlur(image1,(19,19),0)\n",
        "cv2_imshow(gaussian)\n",
        "\n",
        "gaussian=cv2.GaussianBlur(image1,(19,19),0)\n",
        "cv2_imshow(gaussian)\n",
        "\n",
        "sobelx=cv2.Sobel(image1,cv2.CV_64F,1,0,ksize=3)\n",
        "sobely=cv2.Sobel(image1,cv2.CV_64F,0,1,ksize=3)\n",
        "from google.colab.patches import cv2_imshow\n",
        "cv2_imshow(sobelx,)\n",
        "print(\"diff\")\n",
        "cv2_imshow(sobely)\n",
        "\n",
        "\n",
        "edges1 = cv2.Canny(image1, 100, 200)\n",
        "cv2_imshow(edges1)\n",
        "\n",
        "THRESH_BINARY     = 0,\n",
        "THRESH_BINARY_INV = 1,\n",
        "lower_threshold = 82\n",
        "upper_threshold = 140\n",
        "ret, lower_thresh = cv2.threshold(image1, lower_threshold, 255, cv2.THRESH_BINARY)\n",
        "ret, upper_thresh = cv2.threshold(image1, upper_threshold, 255, cv2.THRESH_BINARY)\n",
        "plt.thresh(121)\n",
        "plt.imshow(lower_thresh, cmap='gray')\n",
        "plt.title('Lower Threshold')\n",
        "plt.axis('off')\n",
        "plt.thresh(122)\n",
        "plt.imshow(upper_thresh, cmap='gray')\n",
        "plt.title('Upper Threshold')\n",
        "plt.axis('off')\n",
        "plt.show()\n",
        "\n",
        "\n",
        "\n"
      ]
    },
    {
      "cell_type": "code",
      "source": [],
      "metadata": {
        "id": "RLxxqXtngdx9"
      },
      "execution_count": null,
      "outputs": []
    },
    {
      "cell_type": "code",
      "source": [
        "import cv2\n",
        "image2=cv2.imread(\"2.2.jpg\")\n",
        "image3=cv2.imread(\"4.45.jpg\")\n",
        "image4=cv2.imread(\"5.5.jpg\")\n",
        "image5=cv2.imread(\"parking\")\n",
        "\n",
        "from google.colab.patches import cv2_imshow\n",
        "cv2_imshow(image2)"
      ],
      "metadata": {
        "id": "FVymiGTMDIA8"
      },
      "execution_count": null,
      "outputs": []
    }
  ]
}